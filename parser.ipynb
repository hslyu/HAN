{
 "cells": [
  {
   "cell_type": "code",
   "execution_count": null,
   "id": "c1606cc2",
   "metadata": {},
   "outputs": [],
   "source": [
    "#!/usr/bin/env python\n",
    "\n",
    "import os\n",
    "import sys\n",
    "import glob\n",
    "import numpy as np\n",
    "from PIL import Image\n",
    "import matplotlib.pyplot as plt"
   ]
  },
  {
   "cell_type": "code",
   "execution_count": null,
   "id": "1215f2bc",
   "metadata": {},
   "outputs": [],
   "source": [
    "def get_files(dirname):\n",
    "    file_names = glob.glob(dirname + '/*')\n",
    "    return [file for file in file_names if os.path.isfile(file)]"
   ]
  },
  {
   "cell_type": "code",
   "execution_count": null,
   "id": "c1be542b",
   "metadata": {},
   "outputs": [],
   "source": [
    "def hgu2jpg(file_path, dst_path):\n",
    "    with open(file_path, \"rb\") as hgu:\n",
    "        header = hgu.read(8)\n",
    "        \n",
    "        count = 0\n",
    "        while True:\n",
    "            # Read headers\n",
    "            code = hgu.read(2)\n",
    "            if not code:\n",
    "                break\n",
    "            width = int.from_bytes(hgu.read(1), byteorder=\"big\")\n",
    "            height = int.from_bytes(hgu.read(1), byteorder=\"big\")\n",
    "            reserved = hgu.read(2)\n",
    "            \n",
    "            # Read image\n",
    "            img = hgu.read(width * height)\n",
    "            img = np.frombuffer(img, dtype=np.uint8).reshape((height, width))\n",
    "            \n",
    "            # Save image\n",
    "            jpg = Image.fromarray(img, mode='L')\n",
    "            class_name = file_path.split('/')[-1].split('.')[0]\n",
    "            count += 1\n",
    "            image_path = os.path.join(dst_path, class_name, f'{count}.jpg')\n",
    "            if not os.path.exists(os.path.join(dst_path, class_name)):\n",
    "                os.makedirs(os.path.join(dst_path, class_name))\n",
    "\n",
    "#            print(image_path, width, height, count)\n",
    "            jpg.save(image_path, format='JPEG')\n",
    "#             print(width, height)\n",
    "#             plt.imshow(img, cmap='gray')\n",
    "#             plt.axis('off')\n",
    "#             plt.show()\n",
    "    hgu.close()"
   ]
  },
  {
   "cell_type": "code",
   "execution_count": null,
   "id": "dd7291f1",
   "metadata": {},
   "outputs": [],
   "source": [
    "def main():\n",
    "    dirname = 'PE92_test'\n",
    "    dst_path = os.path.join('/home/hslyu/asdf', dirname + '_jpg')\n",
    "    if not os.path.exists(dst_path):\n",
    "        os.makedirs(dst_path)\n",
    "    \n",
    "    list_file_path = get_files(dirname)\n",
    "    for file_path in list_file_path:\n",
    "        hgu2jpg(file_path, dst_path)\n",
    "\n",
    "if __name__ == \"__main__\":\n",
    "    main()"
   ]
  }
 ],
 "metadata": {
  "kernelspec": {
   "display_name": "Python 3 (ipykernel)",
   "language": "python",
   "name": "python3"
  },
  "language_info": {
   "codemirror_mode": {
    "name": "ipython",
    "version": 3
   },
   "file_extension": ".py",
   "mimetype": "text/x-python",
   "name": "python",
   "nbconvert_exporter": "python",
   "pygments_lexer": "ipython3",
   "version": "3.10.11"
  }
 },
 "nbformat": 4,
 "nbformat_minor": 5
}
